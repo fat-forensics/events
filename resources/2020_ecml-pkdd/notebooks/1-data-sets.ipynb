{
 "cells": [
  {
   "cell_type": "markdown",
   "metadata": {},
   "source": [
    "ECML-PKDD 2020 Hands-on Tutorial\n",
    "\n",
    "*What and How of Machine Learning Transparency*:  \n",
    "Building Bespoke Explainability Tools with Interoperable Algorithmic Components\n",
    "\n",
    "<https://events.fat-forensics.org/>\n",
    "\n",
    "Authors: Kacper Sokol <k.sokol@bristol.ac.uk> and\n",
    "         Alex Hepburn <ah13558@bristol.ac.uk>  \n",
    "Licence: new BSD\n",
    "\n",
    "---\n",
    "\n",
    "---\n",
    "\n",
    "---"
   ]
  },
  {
   "cell_type": "markdown",
   "metadata": {
    "colab_type": "text",
    "id": "5w0JfMxuQ2Ud"
   },
   "source": [
    "First, we need to set up the environment."
   ]
  },
  {
   "cell_type": "code",
   "execution_count": 1,
   "metadata": {
    "colab": {},
    "colab_type": "code",
    "executionInfo": {
     "elapsed": 897,
     "status": "ok",
     "timestamp": 1598623190387,
     "user": {
      "displayName": "Kacper Sokol",
      "photoUrl": "",
      "userId": "08424478775456813676"
     },
     "user_tz": -60
    },
    "id": "796kd8hkQ1TL"
   },
   "outputs": [],
   "source": [
    "%load_ext autoreload\n",
    "%autoreload 2"
   ]
  },
  {
   "cell_type": "code",
   "execution_count": 2,
   "metadata": {
    "colab": {
     "base_uri": "https://localhost:8080/",
     "height": 383
    },
    "colab_type": "code",
    "executionInfo": {
     "elapsed": 3222,
     "status": "ok",
     "timestamp": 1598623193821,
     "user": {
      "displayName": "Kacper Sokol",
      "photoUrl": "",
      "userId": "08424478775456813676"
     },
     "user_tz": -60
    },
    "id": "-7aYZ1OF9XZi",
    "outputId": "420d8d77-9ed1-4d82-c646-0bc299ed6412"
   },
   "outputs": [],
   "source": [
    "LIBRARY_URL = ('https://raw.githubusercontent.com/fat-forensics/events/master/'\n",
    "               'resources/2020_ecml-pkdd/notebooks/fatf_ecml.py')\n",
    "\n",
    "try:\n",
    "    import google.colab\n",
    "    !wget $LIBRARY_URL -O fatf_ecml.py\n",
    "except ImportError:\n",
    "    pass\n",
    "\n",
    "import fatf_ecml\n",
    "\n",
    "import matplotlib.pyplot as plt\n",
    "import numpy as np\n",
    "\n",
    "from IPython.display import display\n",
    "\n",
    "%matplotlib inline"
   ]
  },
  {
   "cell_type": "code",
   "execution_count": 3,
   "metadata": {
    "colab": {
     "base_uri": "https://localhost:8080/",
     "height": 314
    },
    "colab_type": "code",
    "executionInfo": {
     "elapsed": 4901,
     "status": "ok",
     "timestamp": 1598623198698,
     "user": {
      "displayName": "Kacper Sokol",
      "photoUrl": "",
      "userId": "08424478775456813676"
     },
     "user_tz": -60
    },
    "id": "wbnotekBRJsm",
    "outputId": "d94db01d-c045-4977-91ed-1eb76c7685f6"
   },
   "outputs": [
    {
     "name": "stdout",
     "output_type": "stream",
     "text": [
      "Not in Colab; nothing to do.\n"
     ]
    }
   ],
   "source": [
    "fatf_ecml.initialise_colab()"
   ]
  },
  {
   "cell_type": "code",
   "execution_count": 4,
   "metadata": {
    "colab": {},
    "colab_type": "code",
    "executionInfo": {
     "elapsed": 666,
     "status": "ok",
     "timestamp": 1598623230333,
     "user": {
      "displayName": "Kacper Sokol",
      "photoUrl": "",
      "userId": "08424478775456813676"
     },
     "user_tz": -60
    },
    "id": "ByR0A__W9vl8"
   },
   "outputs": [],
   "source": [
    "import sklearn.metrics"
   ]
  },
  {
   "cell_type": "markdown",
   "metadata": {
    "colab_type": "text",
    "id": "P3gS_Z407smY"
   },
   "source": [
    "# Introducing Data Sets and Black Boxes #\n",
    "This notebook briefly introduces example data sets that we will use\n",
    "throughout the tutorial:\n",
    "\n",
    "- *Two Moons* -- a two-dimensional toy data set; and\n",
    "- *Bikes Sharing* -- a real-life data set that captures bike rentals\n",
    "  (available via the\n",
    "  [UCI repository](https://archive.ics.uci.edu/ml/datasets/bike+sharing+dataset)\n",
    "  ).\n",
    "\n",
    "Moreover, it discusses two classifiers that will serve as our *black boxes*\n",
    "(trained on said data):\n",
    "\n",
    "- Random Forest -- utilises the `sklearn.ensemble.RandomForestClassifier` class\n",
    "  and serves as a probabilistic black box; and\n",
    "- Support Vector Machine -- uses the `sklearn.svm.SVC` class and serves as\n",
    "  a non-probabilistic black box.\n",
    "\n",
    "---\n",
    "\n",
    "**Reproducibility**&nbsp;&nbsp;&nbsp;&nbsp;\n",
    "To ensure reproducibility of the data -- random generation of Two Moons\n",
    "and train/test split of both data sets -- we encourage fixing the random\n",
    "seeds of the Python's and numpy's `random` modules.\n",
    "This can be easily done by calling `fatf.setup_random_seed(42)`, where `42`\n",
    "is the chosen random seed.\n",
    "This step is already integrated into the data set creation functions\n",
    "-- `fatf_ecml.generate_2d_moons` and `fatf_ecml.generate_bikes` -- and can\n",
    "be accessed with their `random_seed` parameter, e.g.:\n",
    "```\n",
    ">>> fatf_ecml.generate_2d_moons(random_seed=42)\n",
    "```\n",
    "If called without this parameter or with `None`, the random seed is not fixed.\n",
    "\n",
    "Similarly, you may wish to train reproducible models.\n",
    "This can be achieved by using the `random_state` parameter, which every\n",
    "scikit-learn model class has, e.g., `sklearn.svm.SVC(random_state=42)`.\n",
    "Again, this functionality has already been integrated into the model creation\n",
    "functions in the `fatf_ecml` library -- `fatf_ecml.get_random_forest` and\n",
    "`fatf_ecml.get_svc` -- and can be accessed via their `random_seed` parameter,\n",
    "e.g.:\n",
    "```\n",
    ">>> fatf_ecml.get_svc(data, target, random_seed=42)\n",
    "```\n",
    "If called without this parameter or with `None`, the random seed is not fixed.\n",
    "\n",
    "---\n",
    "\n",
    "**Storing Variables**&nbsp;&nbsp;&nbsp;&nbsp;\n",
    "It is possible to *store* a variable in one Jupyter Notebook and *load* it\n",
    "in another.\n",
    "You can do so with two *magic* commands:\n",
    "```\n",
    "%store variable_name\n",
    "```\n",
    "to store a variable named `variable_name` and\n",
    "```\n",
    "%store -r variable_name\n",
    "```\n",
    "to load a variable named `variable_name`.\n",
    "You can also list all of the stored variables by using the `%store` magic\n",
    "function without any parameter, i.e.:\n",
    "```\n",
    "%store\n",
    "```\n",
    "More information can be found\n",
    "[here](https://ipython.readthedocs.io/en/stable/config/extensions/storemagic.html).\n",
    "**Unfortunately, this feature does not work with Colab.**\n",
    "\n",
    "---\n",
    "\n",
    "> **Note**&nbsp;&nbsp;&nbsp;&nbsp; If you want to see the source code of\n",
    "  any function, you can use another *magic* command available in\n",
    "  Jupyter Notebooks:\n",
    "  ```\n",
    "  ?? fatf_ecml.initialise_colab\n",
    "  ```\n",
    "  Execute the cell below to see how it works."
   ]
  },
  {
   "cell_type": "code",
   "execution_count": 5,
   "metadata": {
    "colab": {},
    "colab_type": "code",
    "executionInfo": {
     "elapsed": 892,
     "status": "ok",
     "timestamp": 1598623201746,
     "user": {
      "displayName": "Kacper Sokol",
      "photoUrl": "",
      "userId": "08424478775456813676"
     },
     "user_tz": -60
    },
    "id": "OS0M5wOgS4QM"
   },
   "outputs": [
    {
     "data": {
      "text/plain": [
       "\u001b[0;31mSignature:\u001b[0m  \u001b[0mfatf_ecml\u001b[0m\u001b[0;34m.\u001b[0m\u001b[0minitialise_colab\u001b[0m\u001b[0;34m(\u001b[0m\u001b[0;34m)\u001b[0m\u001b[0;34m\u001b[0m\u001b[0;34m\u001b[0m\u001b[0m\n",
       "\u001b[0;31mSource:\u001b[0m   \n",
       "\u001b[0;32mdef\u001b[0m \u001b[0minitialise_colab\u001b[0m\u001b[0;34m(\u001b[0m\u001b[0;34m)\u001b[0m\u001b[0;34m:\u001b[0m\u001b[0;34m\u001b[0m\n",
       "\u001b[0;34m\u001b[0m    \u001b[0;34m\"\"\"\u001b[0m\n",
       "\u001b[0;34m    Installs FAT Forensics with all its auxiliary dependencies when in Colab.\u001b[0m\n",
       "\u001b[0;34m    \"\"\"\u001b[0m\u001b[0;34m\u001b[0m\n",
       "\u001b[0;34m\u001b[0m    \u001b[0;32mglobal\u001b[0m \u001b[0mFATF_INSTALLED\u001b[0m\u001b[0;34m\u001b[0m\n",
       "\u001b[0;34m\u001b[0m    \u001b[0;32mif\u001b[0m \u001b[0mIN_COLAB\u001b[0m\u001b[0;34m:\u001b[0m\u001b[0;34m\u001b[0m\n",
       "\u001b[0;34m\u001b[0m        \u001b[0;32mif\u001b[0m \u001b[0;32mnot\u001b[0m \u001b[0mFATF_INSTALLED\u001b[0m\u001b[0;34m:\u001b[0m\u001b[0;34m\u001b[0m\n",
       "\u001b[0;34m\u001b[0m            \u001b[0mprint\u001b[0m\u001b[0;34m(\u001b[0m\u001b[0;34m'Installing FAT Forensics.'\u001b[0m\u001b[0;34m)\u001b[0m\u001b[0;34m\u001b[0m\n",
       "\u001b[0;34m\u001b[0m            \u001b[0mstream\u001b[0m \u001b[0;34m=\u001b[0m \u001b[0mos\u001b[0m\u001b[0;34m.\u001b[0m\u001b[0mpopen\u001b[0m\u001b[0;34m(\u001b[0m\u001b[0;34m\u001b[0m\n",
       "\u001b[0;34m\u001b[0m                \u001b[0;34m'{} -m pip install fat-forensics[all]'\u001b[0m\u001b[0;34m.\u001b[0m\u001b[0mformat\u001b[0m\u001b[0;34m(\u001b[0m\u001b[0msys\u001b[0m\u001b[0;34m.\u001b[0m\u001b[0mexecutable\u001b[0m\u001b[0;34m)\u001b[0m\u001b[0;34m)\u001b[0m\u001b[0;34m\u001b[0m\n",
       "\u001b[0;34m\u001b[0m            \u001b[0moutput\u001b[0m \u001b[0;34m=\u001b[0m \u001b[0mstream\u001b[0m\u001b[0;34m.\u001b[0m\u001b[0mread\u001b[0m\u001b[0;34m(\u001b[0m\u001b[0;34m)\u001b[0m\u001b[0;34m\u001b[0m\n",
       "\u001b[0;34m\u001b[0m            \u001b[0mprint\u001b[0m\u001b[0;34m(\u001b[0m\u001b[0moutput\u001b[0m\u001b[0;34m)\u001b[0m\u001b[0;34m\u001b[0m\n",
       "\u001b[0;34m\u001b[0m            \u001b[0mFATF_INSTALLED\u001b[0m \u001b[0;34m=\u001b[0m \u001b[0;32mTrue\u001b[0m\u001b[0;34m\u001b[0m\n",
       "\u001b[0;34m\u001b[0m        \u001b[0;32melse\u001b[0m\u001b[0;34m:\u001b[0m\u001b[0;34m\u001b[0m\n",
       "\u001b[0;34m\u001b[0m            \u001b[0mprint\u001b[0m\u001b[0;34m(\u001b[0m\u001b[0;34m'FAT Forensics is already installed.'\u001b[0m\u001b[0;34m)\u001b[0m\u001b[0;34m\u001b[0m\n",
       "\u001b[0;34m\u001b[0m    \u001b[0;32melse\u001b[0m\u001b[0;34m:\u001b[0m\u001b[0;34m\u001b[0m\n",
       "\u001b[0;34m\u001b[0m        \u001b[0mprint\u001b[0m\u001b[0;34m(\u001b[0m\u001b[0;34m'Not in Colab; nothing to do.'\u001b[0m\u001b[0;34m)\u001b[0m\u001b[0;34m\u001b[0m\u001b[0;34m\u001b[0m\u001b[0m\n",
       "\u001b[0;31mFile:\u001b[0m      ~/Downloads/fatf_ecml.py\n",
       "\u001b[0;31mType:\u001b[0m      function\n"
      ]
     },
     "metadata": {},
     "output_type": "display_data"
    }
   ],
   "source": [
    "?? fatf_ecml.initialise_colab"
   ]
  },
  {
   "cell_type": "markdown",
   "metadata": {
    "colab_type": "text",
    "id": "7l-W2-L260mR"
   },
   "source": [
    "## Two Moons ##\n",
    "First, let's generate a *toy* data set that is two-dimensional and easy to\n",
    "visualise.\n",
    "It will help us to introduce plenty of concepts throughout this tutorial.\n",
    "\n",
    "To this end, we use scikit-learn's `sklearn.datasets.make_moons` function.\n",
    "We generate a two moons data set with 1500 samples and 0.25 noise.\n",
    "Next, we scale both of its features to the [0, 1] range.\n",
    "Then, we separate 20% of the data into a *test* set.\n",
    "\n",
    "For convenience, this procedure is neatly wrapped inside the\n",
    "`generate_2d_moons` function in our dedicated ECML-PKDD 2020 tutorial\n",
    "library `fatf_ecml`.\n",
    "(We have already downloaded and imported it at the very top of this notebook.)\n",
    "\n",
    "Let's generate this data set."
   ]
  },
  {
   "cell_type": "code",
   "execution_count": 6,
   "metadata": {
    "colab": {
     "base_uri": "https://localhost:8080/",
     "height": 69
    },
    "colab_type": "code",
    "executionInfo": {
     "elapsed": 666,
     "status": "ok",
     "timestamp": 1598623206998,
     "user": {
      "displayName": "Kacper Sokol",
      "photoUrl": "",
      "userId": "08424478775456813676"
     },
     "user_tz": -60
    },
    "id": "n7miSIS75ZJL",
    "outputId": "3299ca6f-83dc-469e-ab1a-51d69fadb1dc"
   },
   "outputs": [
    {
     "name": "stderr",
     "output_type": "stream",
     "text": [
      "20-Sep-01 15:57:17 fatf         INFO     Seeding RNGs using the input parameter.\n",
      "20-Sep-01 15:57:17 fatf         INFO     Seeding RNGs with 42.\n"
     ]
    }
   ],
   "source": [
    "# Generate 2-D moons data set\n",
    "moons_train_X, moons_test_X, moons_train_y, moons_test_y = (\n",
    "    fatf_ecml.generate_2d_moons(random_seed=42)\n",
    ")"
   ]
  },
  {
   "cell_type": "markdown",
   "metadata": {
    "colab_type": "text",
    "id": "jRtAv7piYUNv"
   },
   "source": [
    "Let's plot the *training* data first..."
   ]
  },
  {
   "cell_type": "code",
   "execution_count": 7,
   "metadata": {
    "colab": {
     "base_uri": "https://localhost:8080/",
     "height": 550
    },
    "colab_type": "code",
    "executionInfo": {
     "elapsed": 1893,
     "status": "ok",
     "timestamp": 1598623212052,
     "user": {
      "displayName": "Kacper Sokol",
      "photoUrl": "",
      "userId": "08424478775456813676"
     },
     "user_tz": -60
    },
    "id": "3-mPSosu88Tx",
    "outputId": "e3ab49b5-6159-44d7-d85f-c7fe7fa0f2d4"
   },
   "outputs": [
    {
     "data": {
      "text/plain": [
       "<matplotlib.collections.PathCollection at 0x12227e278>"
      ]
     },
     "execution_count": 7,
     "metadata": {},
     "output_type": "execute_result"
    },
    {
     "data": {
      "image/png": "[encoded data removed]",
      "text/plain": [
       "<Figure size 640x640 with 1 Axes>"
      ]
     },
     "metadata": {
      "needs_background": "light"
     },
     "output_type": "display_data"
    }
   ],
   "source": [
    "# Plot training data and their labels\n",
    "plt.figure(figsize=(8, 8), dpi=80)\n",
    "plt.scatter(moons_train_X[:, 0], moons_train_X[:, 1],\n",
    "            cmap=plt.cm.Set1, c=moons_train_y)"
   ]
  },
  {
   "cell_type": "markdown",
   "metadata": {
    "colab_type": "text",
    "id": "tcqsTIhzYxPy"
   },
   "source": [
    "...followed by the *test* data."
   ]
  },
  {
   "cell_type": "code",
   "execution_count": 8,
   "metadata": {
    "colab": {
     "base_uri": "https://localhost:8080/",
     "height": 550
    },
    "colab_type": "code",
    "executionInfo": {
     "elapsed": 1085,
     "status": "ok",
     "timestamp": 1598623215394,
     "user": {
      "displayName": "Kacper Sokol",
      "photoUrl": "",
      "userId": "08424478775456813676"
     },
     "user_tz": -60
    },
    "id": "3VOm5rl0Yxdk",
    "outputId": "3ed14cc3-b469-4139-c30b-ba93e258444a"
   },
   "outputs": [
    {
     "data": {
      "text/plain": [
       "<matplotlib.collections.PathCollection at 0x122373390>"
      ]
     },
     "execution_count": 8,
     "metadata": {},
     "output_type": "execute_result"
    },
    {
     "data": {
      "image/png": "[encoded data removed]",
      "text/plain": [
       "<Figure size 640x640 with 1 Axes>"
      ]
     },
     "metadata": {
      "needs_background": "light"
     },
     "output_type": "display_data"
    }
   ],
   "source": [
    "# Plot test data and their labels\n",
    "plt.figure(figsize=(8, 8), dpi=80)\n",
    "plt.scatter(moons_test_X[:, 0], moons_test_X[:, 1],\n",
    "            cmap=plt.cm.Set1, c=moons_test_y)"
   ]
  },
  {
   "cell_type": "markdown",
   "metadata": {
    "colab_type": "text",
    "id": "Y5rJTLlvEJWV"
   },
   "source": [
    "## Bikes ##\n",
    "Our second data set is *Bike Sharing*, which is distributed via the\n",
    "[UCI repository](https://archive.ics.uci.edu/ml/datasets/bike+sharing+dataset).\n",
    "It records a number of bike rentals (target) along various weather conditions\n",
    "and date artefacts (features).\n",
    "The version used in this tutorial has the following 11 features:\n",
    "\n",
    "- season:\n",
    "  1. winter,\n",
    "  2. spring,\n",
    "  3. summer, and\n",
    "  4. fall;\n",
    "- year:\n",
    "  0. 2011, and\n",
    "  1. 2012;\n",
    "- month -- 1 to 12;\n",
    "- holiday -- weather the day is a holiday or not;\n",
    "- weekday -- the day of the week;\n",
    "- workingday -- 1 if the day is neither during the weekend nor a holiday,\n",
    "  otherwise 0;\n",
    "- weathersit:\n",
    "  1. clear, few clouds, partly cloudy, partly cloudy,\n",
    "  2. mist + cloudy, mist + broken clouds, mist + few clouds, mist,\n",
    "  3. light snow, light rain + thunderstorm + scattered clouds,\n",
    "     light rain + scattered clouds, and\n",
    "  4. heavy rain + ice pallets + thunderstorm + mist, snow + fog;\n",
    "- temp -- normalized temperature in Celsius;\n",
    "- atemp -- normalized feeling temperature in Celsius;\n",
    "- hum -- normalized humidity; and\n",
    "- windspeed -- normalized wind speed.\n",
    "\n",
    "In its original form, the target of the data set is the number of bikes used\n",
    "on a given day, making it a regression task.\n",
    "However, for the purposes of this tutorial, we convert it into a\n",
    "classification problem.\n",
    "We create a target variable that describes the day as having\n",
    "**low**, **medium** or **high** bike usage, which are defined by the\n",
    "following thresholds:\n",
    "\n",
    "- **low:** $0 \\leq y < 4000$,\n",
    "- **medium:** $4000 \\leq y < 6000$, and\n",
    "- **high:** $6000 \\leq y < 9000$;\n",
    "\n",
    "where $y$ is the number of bikes rented on a given day.\n",
    "\n",
    "---\n",
    "\n",
    "All of this processing is done in the `generate_bikes` function, which\n",
    "is available in the `fatf_ecml` library.\n",
    "Let's use it to load the data."
   ]
  },
  {
   "cell_type": "code",
   "execution_count": 9,
   "metadata": {
    "colab": {
     "base_uri": "https://localhost:8080/",
     "height": 52
    },
    "colab_type": "code",
    "executionInfo": {
     "elapsed": 1109,
     "status": "ok",
     "timestamp": 1598623849340,
     "user": {
      "displayName": "Kacper Sokol",
      "photoUrl": "",
      "userId": "08424478775456813676"
     },
     "user_tz": -60
    },
    "id": "ps97ApdcwCWR",
    "outputId": "d18ba60f-cf01-4588-8fa0-aafa9e31ae98"
   },
   "outputs": [
    {
     "name": "stderr",
     "output_type": "stream",
     "text": [
      "20-Sep-01 16:00:17 fatf         INFO     Seeding RNGs using the input parameter.\n",
      "20-Sep-01 16:00:17 fatf         INFO     Seeding RNGs with 42.\n"
     ]
    }
   ],
   "source": [
    "(bikes_train_X,\n",
    " bikes_test_X,\n",
    " bikes_train_y,\n",
    " bikes_test_y,\n",
    " bikes_feature_names,\n",
    " bikes_target_name) = fatf_ecml.generate_bikes(random_seed=42)\n",
    "\n",
    "bikes_target_classes = ['low', 'medium', 'high']"
   ]
  },
  {
   "cell_type": "code",
   "execution_count": 10,
   "metadata": {
    "colab": {
     "base_uri": "https://localhost:8080/",
     "height": 69
    },
    "colab_type": "code",
    "executionInfo": {
     "elapsed": 802,
     "status": "ok",
     "timestamp": 1598623223571,
     "user": {
      "displayName": "Kacper Sokol",
      "photoUrl": "",
      "userId": "08424478775456813676"
     },
     "user_tz": -60
    },
    "id": "fTvI_B2TCoc9",
    "outputId": "28a083dd-3cf7-4421-9ea9-3cc0d2f1f005"
   },
   "outputs": [
    {
     "name": "stdout",
     "output_type": "stream",
     "text": [
      "Features number: 11.\n",
      "Training instances number: 584.\n",
      "Testing instances number: 147.\n"
     ]
    }
   ],
   "source": [
    "print('Features number: {}.'.format(bikes_train_X.shape[1]))\n",
    "print('Training instances number: {}.'.format(bikes_train_X.shape[0]))\n",
    "print('Testing instances number: {}.'.format(bikes_test_X.shape[0]))"
   ]
  },
  {
   "cell_type": "markdown",
   "metadata": {
    "colab_type": "text",
    "id": "rXx3WKFH6LOp"
   },
   "source": [
    "Now, let's visualise the class proportions for the training and test sets.\n"
   ]
  },
  {
   "cell_type": "code",
   "execution_count": 11,
   "metadata": {
    "colab": {
     "base_uri": "https://localhost:8080/",
     "height": 528
    },
    "colab_type": "code",
    "executionInfo": {
     "elapsed": 1049,
     "status": "ok",
     "timestamp": 1598623226613,
     "user": {
      "displayName": "Kacper Sokol",
      "photoUrl": "",
      "userId": "08424478775456813676"
     },
     "user_tz": -60
    },
    "id": "uI7nnQY5k6mZ",
    "outputId": "b05002c8-dd71-448c-e37f-e4e4e68eaa05"
   },
   "outputs": [
    {
     "data": {
      "text/plain": [
       "Text(0.5, 1.0, 'Class Distribution of Test Data')"
      ]
     },
     "execution_count": 11,
     "metadata": {},
     "output_type": "execute_result"
    },
    {
     "data": {
      "image/png": "[encoded data removed]",
      "text/plain": [
       "<Figure size 1152x576 with 2 Axes>"
      ]
     },
     "metadata": {
      "needs_background": "light"
     },
     "output_type": "display_data"
    }
   ],
   "source": [
    "fig, axs = plt.subplots(1, 2, figsize=(16, 8), sharex=True, sharey=True)\n",
    "\n",
    "bins = [0, 4000, 6000, 9000]\n",
    "bin_names = [\n",
    "    '{:.0f}<=y<{:.0f}\\nLow'.format(bins[0], bins[1]),\n",
    "    '{:.0f}<=y<{:.0f}\\nMedium'.format(bins[1], bins[2]),\n",
    "    '{:.0f}<=y<{:.0f}\\nHigh'.format(bins[2], bins[3])\n",
    "]\n",
    "\n",
    "_, train_counts = np.unique(bikes_train_y, return_counts=True)\n",
    "axs[0].bar(bin_names, train_counts)\n",
    "axs[0].set_title('Class Distribution of Train Data')\n",
    "\n",
    "_, test_counts = np.unique(bikes_test_y, return_counts=True)\n",
    "axs[1].bar(bin_names, test_counts)\n",
    "axs[1].set_title('Class Distribution of Test Data')"
   ]
  },
  {
   "cell_type": "markdown",
   "metadata": {
    "colab_type": "text",
    "id": "UPPWFS1E7MJx"
   },
   "source": [
    "## Training Models ##\n",
    "Now, let's train *black box* models on these data sets and evaluate their\n",
    "train and test set predictive performance.\n",
    "We will use two models:\n",
    "\n",
    "* `sklearn.ensemble.RandomForestClassifier` treated as a *probabilistic*\n",
    "  classifier; and\n",
    "* `sklearn.svm.SVC` operated as a *crisp* (non-probabilistic) classifier."
   ]
  },
  {
   "cell_type": "markdown",
   "metadata": {
    "colab_type": "text",
    "id": "Mc3aeBheHIxp"
   },
   "source": [
    "### Two Moons ###"
   ]
  },
  {
   "cell_type": "markdown",
   "metadata": {
    "colab_type": "text",
    "id": "rwU_uV22Jedn"
   },
   "source": [
    "#### Random Forest ####\n",
    "Let's start with a simple *probabilistic* model based on the Random Forest\n",
    "classifier."
   ]
  },
  {
   "cell_type": "code",
   "execution_count": 12,
   "metadata": {
    "colab": {
     "base_uri": "https://localhost:8080/",
     "height": 52
    },
    "colab_type": "code",
    "executionInfo": {
     "elapsed": 867,
     "status": "ok",
     "timestamp": 1598623232754,
     "user": {
      "displayName": "Kacper Sokol",
      "photoUrl": "",
      "userId": "08424478775456813676"
     },
     "user_tz": -60
    },
    "id": "1AslK1T5JlGn",
    "outputId": "e04bb2d4-8720-4ca9-ad88-bb82b5d8243c"
   },
   "outputs": [
    {
     "name": "stderr",
     "output_type": "stream",
     "text": [
      "20-Sep-01 16:01:29 fatf         INFO     Seeding RNGs using the input parameter.\n",
      "20-Sep-01 16:01:29 fatf         INFO     Seeding RNGs with 42.\n"
     ]
    }
   ],
   "source": [
    "clf_moons_probabilistic = fatf_ecml.get_random_forest(\n",
    "    moons_train_X, moons_train_y, random_seed=42)"
   ]
  },
  {
   "cell_type": "markdown",
   "metadata": {
    "colab_type": "text",
    "id": "Nx5r0vylJo8D"
   },
   "source": [
    "It has the following training set log loss:"
   ]
  },
  {
   "cell_type": "code",
   "execution_count": 13,
   "metadata": {
    "colab": {
     "base_uri": "https://localhost:8080/",
     "height": 35
    },
    "colab_type": "code",
    "executionInfo": {
     "elapsed": 679,
     "status": "ok",
     "timestamp": 1598623234635,
     "user": {
      "displayName": "Kacper Sokol",
      "photoUrl": "",
      "userId": "08424478775456813676"
     },
     "user_tz": -60
    },
    "id": "Aq-VoVlQ-uve",
    "outputId": "f5c9a136-24f2-45d3-e805-494c4633869e"
   },
   "outputs": [
    {
     "name": "stdout",
     "output_type": "stream",
     "text": [
      "Training set *log loss*: 0.116.\n"
     ]
    }
   ],
   "source": [
    "moons_prob_predictions_train = clf_moons_probabilistic.predict_proba(\n",
    "    moons_train_X)\n",
    "\n",
    "moons_prob_train_performance = sklearn.metrics.log_loss(\n",
    "    moons_train_y, moons_prob_predictions_train)\n",
    "\n",
    "print('Training set *log loss*: {:.3}.'.format(moons_prob_train_performance))"
   ]
  },
  {
   "cell_type": "markdown",
   "metadata": {
    "colab_type": "text",
    "id": "1GR0NwPhKIv5"
   },
   "source": [
    "It has the following testing set log loss:"
   ]
  },
  {
   "cell_type": "code",
   "execution_count": 14,
   "metadata": {
    "colab": {
     "base_uri": "https://localhost:8080/",
     "height": 35
    },
    "colab_type": "code",
    "executionInfo": {
     "elapsed": 591,
     "status": "ok",
     "timestamp": 1598623238625,
     "user": {
      "displayName": "Kacper Sokol",
      "photoUrl": "",
      "userId": "08424478775456813676"
     },
     "user_tz": -60
    },
    "id": "Fr1tr56bKFaB",
    "outputId": "64e42825-78fe-48d2-be66-93a5a0e6d46d"
   },
   "outputs": [
    {
     "name": "stdout",
     "output_type": "stream",
     "text": [
      "Testing set *log loss*: 0.225.\n"
     ]
    }
   ],
   "source": [
    "moons_prob_predictions_test = clf_moons_probabilistic.predict_proba(\n",
    "    moons_test_X)\n",
    "\n",
    "moons_prob_test_performance = sklearn.metrics.log_loss(\n",
    "    moons_test_y, moons_prob_predictions_test)\n",
    "\n",
    "print('Testing set *log loss*: {:.3}.'.format(moons_prob_test_performance))"
   ]
  },
  {
   "cell_type": "markdown",
   "metadata": {
    "colab_type": "text",
    "id": "i865vyq-Kr0F"
   },
   "source": [
    "#### Support Vector Machine ####\n",
    "Next, we train a simple crisp (non-probabilistic) model."
   ]
  },
  {
   "cell_type": "code",
   "execution_count": 15,
   "metadata": {
    "colab": {
     "base_uri": "https://localhost:8080/",
     "height": 52
    },
    "colab_type": "code",
    "executionInfo": {
     "elapsed": 612,
     "status": "ok",
     "timestamp": 1598623240889,
     "user": {
      "displayName": "Kacper Sokol",
      "photoUrl": "",
      "userId": "08424478775456813676"
     },
     "user_tz": -60
    },
    "id": "FSC5MuumPX9o",
    "outputId": "66ebce4e-52b3-4fa0-dd63-e56bcbc44af1"
   },
   "outputs": [
    {
     "name": "stderr",
     "output_type": "stream",
     "text": [
      "20-Sep-01 16:01:55 fatf         INFO     Seeding RNGs using the input parameter.\n",
      "20-Sep-01 16:01:55 fatf         INFO     Seeding RNGs with 42.\n"
     ]
    }
   ],
   "source": [
    "clf_moons_crisp = fatf_ecml.get_svc(\n",
    "    moons_train_X, moons_train_y, random_seed=42)"
   ]
  },
  {
   "cell_type": "markdown",
   "metadata": {
    "colab_type": "text",
    "id": "Nlwigf2ZQNZf"
   },
   "source": [
    "It has the following training set accuracy:"
   ]
  },
  {
   "cell_type": "code",
   "execution_count": 16,
   "metadata": {
    "colab": {
     "base_uri": "https://localhost:8080/",
     "height": 35
    },
    "colab_type": "code",
    "executionInfo": {
     "elapsed": 767,
     "status": "ok",
     "timestamp": 1598623243789,
     "user": {
      "displayName": "Kacper Sokol",
      "photoUrl": "",
      "userId": "08424478775456813676"
     },
     "user_tz": -60
    },
    "id": "N375qpDoKFkN",
    "outputId": "1050378b-a749-435f-926a-99be730f03aa"
   },
   "outputs": [
    {
     "name": "stdout",
     "output_type": "stream",
     "text": [
      "Training set *accuracy*: 0.939.\n"
     ]
    }
   ],
   "source": [
    "moons_crisp_predictions_train = clf_moons_crisp.predict(\n",
    "    moons_train_X)\n",
    "\n",
    "moons_crisp_train_performance = sklearn.metrics.accuracy_score(\n",
    "    moons_train_y, moons_crisp_predictions_train)\n",
    "\n",
    "print('Training set *accuracy*: {:.3}.'.format(moons_crisp_train_performance))"
   ]
  },
  {
   "cell_type": "markdown",
   "metadata": {
    "colab_type": "text",
    "id": "_KUj8sGdQvUe"
   },
   "source": [
    "It has the following testing set accuracy:"
   ]
  },
  {
   "cell_type": "code",
   "execution_count": 17,
   "metadata": {
    "colab": {
     "base_uri": "https://localhost:8080/",
     "height": 35
    },
    "colab_type": "code",
    "executionInfo": {
     "elapsed": 757,
     "status": "ok",
     "timestamp": 1598623245721,
     "user": {
      "displayName": "Kacper Sokol",
      "photoUrl": "",
      "userId": "08424478775456813676"
     },
     "user_tz": -60
    },
    "id": "k5EEVly5KFps",
    "outputId": "4d9a26b0-8f8c-4a47-ead7-6825a59741ec"
   },
   "outputs": [
    {
     "name": "stdout",
     "output_type": "stream",
     "text": [
      "Testing set *accuracy*: 0.91.\n"
     ]
    }
   ],
   "source": [
    "moons_crisp_predictions_test = clf_moons_crisp.predict(\n",
    "    moons_test_X)\n",
    "\n",
    "moons_crisp_test_performance = sklearn.metrics.accuracy_score(\n",
    "    moons_test_y, moons_crisp_predictions_test)\n",
    "\n",
    "print('Testing set *accuracy*: {:.3}.'.format(moons_crisp_test_performance))"
   ]
  },
  {
   "cell_type": "markdown",
   "metadata": {
    "colab_type": "text",
    "id": "h41wBLd7HSCC"
   },
   "source": [
    "### Bikes ###"
   ]
  },
  {
   "cell_type": "markdown",
   "metadata": {
    "colab_type": "text",
    "id": "tjTM0omqRTUO"
   },
   "source": [
    "#### Random Forest ####\n",
    "Let's start with a simple *probabilistic* model based on the Random Forest\n",
    "classifier."
   ]
  },
  {
   "cell_type": "code",
   "execution_count": 18,
   "metadata": {
    "colab": {
     "base_uri": "https://localhost:8080/",
     "height": 52
    },
    "colab_type": "code",
    "executionInfo": {
     "elapsed": 675,
     "status": "ok",
     "timestamp": 1598623248898,
     "user": {
      "displayName": "Kacper Sokol",
      "photoUrl": "",
      "userId": "08424478775456813676"
     },
     "user_tz": -60
    },
    "id": "shYspU-mRXMB",
    "outputId": "a8e49f4b-99c9-4696-e3a0-837da4ede6b2"
   },
   "outputs": [
    {
     "name": "stderr",
     "output_type": "stream",
     "text": [
      "20-Sep-01 16:02:29 fatf         INFO     Seeding RNGs using the input parameter.\n",
      "20-Sep-01 16:02:29 fatf         INFO     Seeding RNGs with 42.\n"
     ]
    }
   ],
   "source": [
    "clf_bikes_probabilistic = fatf_ecml.get_random_forest(\n",
    "    bikes_train_X, bikes_train_y, random_seed=42)"
   ]
  },
  {
   "cell_type": "markdown",
   "metadata": {
    "colab_type": "text",
    "id": "Ta_ZcVdvSQ93"
   },
   "source": [
    "It has the following training set log loss:"
   ]
  },
  {
   "cell_type": "code",
   "execution_count": 19,
   "metadata": {
    "colab": {
     "base_uri": "https://localhost:8080/",
     "height": 35
    },
    "colab_type": "code",
    "executionInfo": {
     "elapsed": 815,
     "status": "ok",
     "timestamp": 1598623250916,
     "user": {
      "displayName": "Kacper Sokol",
      "photoUrl": "",
      "userId": "08424478775456813676"
     },
     "user_tz": -60
    },
    "id": "elLvu1daSRq8",
    "outputId": "1b3aa62e-3cfd-440b-ea2c-1c1665bd8eca"
   },
   "outputs": [
    {
     "name": "stdout",
     "output_type": "stream",
     "text": [
      "Training set *log loss*: 0.267.\n"
     ]
    }
   ],
   "source": [
    "bikes_prob_predictions_train = clf_bikes_probabilistic.predict_proba(\n",
    "    bikes_train_X)\n",
    "\n",
    "bikes_prob_train_performance = sklearn.metrics.log_loss(\n",
    "    bikes_train_y, bikes_prob_predictions_train)\n",
    "\n",
    "print('Training set *log loss*: {:.3}.'.format(bikes_prob_train_performance))"
   ]
  },
  {
   "cell_type": "markdown",
   "metadata": {
    "colab_type": "text",
    "id": "NGJMS7GLSZra"
   },
   "source": [
    "It has the following testing set log loss:"
   ]
  },
  {
   "cell_type": "code",
   "execution_count": 20,
   "metadata": {
    "colab": {
     "base_uri": "https://localhost:8080/",
     "height": 35
    },
    "colab_type": "code",
    "executionInfo": {
     "elapsed": 814,
     "status": "ok",
     "timestamp": 1598623253053,
     "user": {
      "displayName": "Kacper Sokol",
      "photoUrl": "",
      "userId": "08424478775456813676"
     },
     "user_tz": -60
    },
    "id": "yloM1AlrSVda",
    "outputId": "562a42ec-5377-4ce5-cf35-cee04f252fd4"
   },
   "outputs": [
    {
     "name": "stdout",
     "output_type": "stream",
     "text": [
      "Testing set *log loss*: 0.411.\n"
     ]
    }
   ],
   "source": [
    "bikes_prob_predictions_test = clf_bikes_probabilistic.predict_proba(\n",
    "    bikes_test_X)\n",
    "\n",
    "bikes_prob_test_performance = sklearn.metrics.log_loss(\n",
    "    bikes_test_y, bikes_prob_predictions_test)\n",
    "\n",
    "print('Testing set *log loss*: {:.3}.'.format(bikes_prob_test_performance))"
   ]
  },
  {
   "cell_type": "markdown",
   "metadata": {
    "colab_type": "text",
    "id": "JAEoj2nISdmd"
   },
   "source": [
    "#### Support Vector Machine ####\n",
    "Next, we train a simple crisp (non-probabilistic) model."
   ]
  },
  {
   "cell_type": "code",
   "execution_count": 21,
   "metadata": {
    "colab": {
     "base_uri": "https://localhost:8080/",
     "height": 52
    },
    "colab_type": "code",
    "executionInfo": {
     "elapsed": 732,
     "status": "ok",
     "timestamp": 1598623255522,
     "user": {
      "displayName": "Kacper Sokol",
      "photoUrl": "",
      "userId": "08424478775456813676"
     },
     "user_tz": -60
    },
    "id": "V7KLQtKESff5",
    "outputId": "2066e821-79c4-4a14-cb9e-4a1eb2894703"
   },
   "outputs": [
    {
     "name": "stderr",
     "output_type": "stream",
     "text": [
      "20-Sep-01 16:02:52 fatf         INFO     Seeding RNGs using the input parameter.\n",
      "20-Sep-01 16:02:52 fatf         INFO     Seeding RNGs with 42.\n"
     ]
    }
   ],
   "source": [
    "clf_bikes_crisp = fatf_ecml.get_svc(\n",
    "    bikes_train_X, bikes_train_y, random_seed=42)"
   ]
  },
  {
   "cell_type": "markdown",
   "metadata": {
    "colab_type": "text",
    "id": "cnu_owwzT5Mz"
   },
   "source": [
    "It has the following training set accuracy:"
   ]
  },
  {
   "cell_type": "code",
   "execution_count": 22,
   "metadata": {
    "colab": {
     "base_uri": "https://localhost:8080/",
     "height": 35
    },
    "colab_type": "code",
    "executionInfo": {
     "elapsed": 782,
     "status": "ok",
     "timestamp": 1598623257916,
     "user": {
      "displayName": "Kacper Sokol",
      "photoUrl": "",
      "userId": "08424478775456813676"
     },
     "user_tz": -60
    },
    "id": "4OuVpR5RSftO",
    "outputId": "23566bf5-37c0-417a-da64-0e193ca5b814"
   },
   "outputs": [
    {
     "name": "stdout",
     "output_type": "stream",
     "text": [
      "Training set *accuracy*: 0.771.\n"
     ]
    }
   ],
   "source": [
    "bikes_crisp_predictions_train = clf_bikes_crisp.predict(\n",
    "    bikes_train_X)\n",
    "\n",
    "moons_crisp_train_performance = sklearn.metrics.accuracy_score(\n",
    "    bikes_train_y, bikes_crisp_predictions_train)\n",
    "\n",
    "print('Training set *accuracy*: {:.3}.'.format(moons_crisp_train_performance))"
   ]
  },
  {
   "cell_type": "markdown",
   "metadata": {
    "colab_type": "text",
    "id": "CSXjEHC5T8Ns"
   },
   "source": [
    "It has the following testing set accuracy:"
   ]
  },
  {
   "cell_type": "code",
   "execution_count": 23,
   "metadata": {
    "colab": {
     "base_uri": "https://localhost:8080/",
     "height": 35
    },
    "colab_type": "code",
    "executionInfo": {
     "elapsed": 759,
     "status": "ok",
     "timestamp": 1598623260430,
     "user": {
      "displayName": "Kacper Sokol",
      "photoUrl": "",
      "userId": "08424478775456813676"
     },
     "user_tz": -60
    },
    "id": "ymNkoVRPmp2t",
    "outputId": "b3eec9de-4727-42a3-a55e-4d4aff4e5a69"
   },
   "outputs": [
    {
     "name": "stdout",
     "output_type": "stream",
     "text": [
      "Training set *accuracy*: 0.776.\n"
     ]
    }
   ],
   "source": [
    "bikes_crisp_predictions_test = clf_bikes_crisp.predict(\n",
    "    bikes_test_X)\n",
    "\n",
    "moons_crisp_test_performance = sklearn.metrics.accuracy_score(\n",
    "    bikes_test_y, bikes_crisp_predictions_test)\n",
    "\n",
    "print('Training set *accuracy*: {:.3}.'.format(moons_crisp_test_performance))"
   ]
  },
  {
   "cell_type": "markdown",
   "metadata": {
    "colab_type": "text",
    "id": "1KZlvYhAHOUX"
   },
   "source": [
    "## Jupyter Variable Storage ##\n",
    "(**This functionality is not available in Colab.**)\n",
    "\n",
    "If you wish to reuse any of these variables in other notebooks,\n",
    "you can store and load them with Jupyter *magic*: `%store` and `%store -r`\n",
    "respectively, e.g.:"
   ]
  },
  {
   "cell_type": "code",
   "execution_count": 24,
   "metadata": {
    "colab": {},
    "colab_type": "code",
    "executionInfo": {
     "elapsed": 1002,
     "status": "ok",
     "timestamp": 1598623267497,
     "user": {
      "displayName": "Kacper Sokol",
      "photoUrl": "",
      "userId": "08424478775456813676"
     },
     "user_tz": -60
    },
    "id": "a4g2V358-u6d"
   },
   "outputs": [],
   "source": [
    "moons_data_dictionary = {\n",
    "    'train': {\n",
    "        'X': moons_train_X,\n",
    "        'y': moons_train_y \n",
    "    },\n",
    "    'test': {\n",
    "        'X': moons_test_X,\n",
    "        'y': moons_test_y \n",
    "    },\n",
    "    'feature_names': ['feature_1', 'feature_2'],\n",
    "    'class_names': ['class_1', 'class_2']\n",
    "}\n",
    "\n",
    "bikes_data_dictionary = {\n",
    "    'train': {\n",
    "        'X': bikes_train_X,\n",
    "        'y': bikes_train_y \n",
    "    },\n",
    "    'test': {\n",
    "        'X': bikes_test_X,\n",
    "        'y': bikes_test_y \n",
    "    },\n",
    "    'feature_names': bikes_feature_names,\n",
    "    'class_names':  bikes_target_classes\n",
    "}"
   ]
  },
  {
   "cell_type": "code",
   "execution_count": 25,
   "metadata": {
    "colab": {
     "base_uri": "https://localhost:8080/",
     "height": 69
    },
    "colab_type": "code",
    "executionInfo": {
     "elapsed": 765,
     "status": "ok",
     "timestamp": 1598623270567,
     "user": {
      "displayName": "Kacper Sokol",
      "photoUrl": "",
      "userId": "08424478775456813676"
     },
     "user_tz": -60
    },
    "id": "ZnqigCZsWdsy",
    "outputId": "8ef5db80-9ab5-4ca6-bd5b-71df06a452b1"
   },
   "outputs": [
    {
     "name": "stdout",
     "output_type": "stream",
     "text": [
      "Stored 'moons_data_dictionary' (dict)\n",
      "Stored 'clf_moons_probabilistic' (RandomForestClassifier)\n",
      "Stored 'clf_moons_crisp' (SVC)\n"
     ]
    }
   ],
   "source": [
    "%store moons_data_dictionary\n",
    "%store clf_moons_probabilistic\n",
    "%store clf_moons_crisp"
   ]
  },
  {
   "cell_type": "code",
   "execution_count": 26,
   "metadata": {
    "colab": {
     "base_uri": "https://localhost:8080/",
     "height": 69
    },
    "colab_type": "code",
    "executionInfo": {
     "elapsed": 533,
     "status": "ok",
     "timestamp": 1598623271988,
     "user": {
      "displayName": "Kacper Sokol",
      "photoUrl": "",
      "userId": "08424478775456813676"
     },
     "user_tz": -60
    },
    "id": "H1eQWu9qWhiE",
    "outputId": "f2e87b69-16f0-460c-9b6d-a82b730c59d8"
   },
   "outputs": [
    {
     "name": "stdout",
     "output_type": "stream",
     "text": [
      "Stored 'bikes_data_dictionary' (dict)\n",
      "Stored 'clf_bikes_probabilistic' (RandomForestClassifier)\n",
      "Stored 'clf_bikes_crisp' (SVC)\n"
     ]
    }
   ],
   "source": [
    "%store bikes_data_dictionary\n",
    "%store clf_bikes_probabilistic\n",
    "%store clf_bikes_crisp"
   ]
  },
  {
   "cell_type": "markdown",
   "metadata": {
    "colab_type": "text",
    "id": "EeRTyshvW1nc"
   },
   "source": [
    "Let's see what variables are stored."
   ]
  },
  {
   "cell_type": "code",
   "execution_count": 27,
   "metadata": {
    "colab": {
     "base_uri": "https://localhost:8080/",
     "height": 155
    },
    "colab_type": "code",
    "executionInfo": {
     "elapsed": 775,
     "status": "ok",
     "timestamp": 1598623279794,
     "user": {
      "displayName": "Kacper Sokol",
      "photoUrl": "",
      "userId": "08424478775456813676"
     },
     "user_tz": -60
    },
    "id": "VRYAxt5uNkdB",
    "outputId": "07565f90-3864-4267-c045-8dd1063ea349"
   },
   "outputs": [
    {
     "name": "stdout",
     "output_type": "stream",
     "text": [
      "Stored variables and their in-db values:\n",
      "bikes_data_dictionary               -> {'train': {'X': array([[ 2.       ,  0.       ,  4\n",
      "clf_bikes_crisp                     -> SVC(random_state=42)\n",
      "clf_bikes_probabilistic             -> RandomForestClassifier(max_depth=7, n_estimators=5\n",
      "clf_moons_crisp                     -> SVC(random_state=42)\n",
      "clf_moons_probabilistic             -> RandomForestClassifier(max_depth=7, n_estimators=5\n",
      "moons_data_dictionary               -> {'train': {'X': array([[0.5708247 , 0.31394848],\n",
      " \n"
     ]
    }
   ],
   "source": [
    "%store"
   ]
  },
  {
   "cell_type": "markdown",
   "metadata": {
    "colab_type": "text",
    "id": "3qa4zO0mW7Sz"
   },
   "source": [
    "Now, let's overwrite one of them and restore it with `%store -r`."
   ]
  },
  {
   "cell_type": "code",
   "execution_count": 28,
   "metadata": {
    "colab": {
     "base_uri": "https://localhost:8080/",
     "height": 35
    },
    "colab_type": "code",
    "executionInfo": {
     "elapsed": 682,
     "status": "ok",
     "timestamp": 1598623929832,
     "user": {
      "displayName": "Kacper Sokol",
      "photoUrl": "",
      "userId": "08424478775456813676"
     },
     "user_tz": -60
    },
    "id": "KPFDwZ6eZWnd",
    "outputId": "fa41c4be-8806-4227-8f49-f67981f85e38"
   },
   "outputs": [
    {
     "name": "stdout",
     "output_type": "stream",
     "text": [
      "None\n"
     ]
    }
   ],
   "source": [
    "moons_data_dictionary = None\n",
    "print(moons_data_dictionary)"
   ]
  },
  {
   "cell_type": "code",
   "execution_count": 29,
   "metadata": {
    "colab": {},
    "colab_type": "code",
    "executionInfo": {
     "elapsed": 655,
     "status": "ok",
     "timestamp": 1598623931976,
     "user": {
      "displayName": "Kacper Sokol",
      "photoUrl": "",
      "userId": "08424478775456813676"
     },
     "user_tz": -60
    },
    "id": "z7oYWhbXE8Wq"
   },
   "outputs": [],
   "source": [
    "%store -r moons_data_dictionary"
   ]
  },
  {
   "cell_type": "code",
   "execution_count": 30,
   "metadata": {
    "colab": {
     "base_uri": "https://localhost:8080/",
     "height": 35
    },
    "colab_type": "code",
    "executionInfo": {
     "elapsed": 677,
     "status": "ok",
     "timestamp": 1598623933824,
     "user": {
      "displayName": "Kacper Sokol",
      "photoUrl": "",
      "userId": "08424478775456813676"
     },
     "user_tz": -60
    },
    "id": "hOC8IZwUE-Fu",
    "outputId": "fb0b07ed-ec2a-4ba8-b1cf-5d7343dc9fa5"
   },
   "outputs": [
    {
     "data": {
      "text/plain": [
       "dict_keys(['train', 'test', 'feature_names', 'class_names'])"
      ]
     },
     "execution_count": 30,
     "metadata": {},
     "output_type": "execute_result"
    }
   ],
   "source": [
    "moons_data_dictionary.keys()"
   ]
  },
  {
   "cell_type": "code",
   "execution_count": null,
   "metadata": {
    "colab": {},
    "colab_type": "code",
    "id": "lkV0j-EqZevW"
   },
   "outputs": [],
   "source": []
  }
 ],
 "metadata": {
  "colab": {
   "collapsed_sections": [],
   "name": "1-data_sets.ipynb",
   "provenance": []
  },
  "kernelspec": {
   "display_name": "Python 3",
   "language": "python",
   "name": "python3"
  },
  "language_info": {
   "codemirror_mode": {
    "name": "ipython",
    "version": 3
   },
   "file_extension": ".py",
   "mimetype": "text/x-python",
   "name": "python",
   "nbconvert_exporter": "python",
   "pygments_lexer": "ipython3",
   "version": "3.7.1"
  }
 },
 "nbformat": 4,
 "nbformat_minor": 4
}
